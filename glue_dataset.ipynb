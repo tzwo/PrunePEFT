{
 "cells": [
  {
   "cell_type": "code",
   "execution_count": null,
   "metadata": {},
   "outputs": [],
   "source": [
    "# download glue dataset\n",
    "from datasets import load_dataset\n",
    "\n",
    "to_load = [\n",
    "    'cola', 'sst2', 'mrpc', 'qqp', 'stsb', 'mnli', 'mnli_mismatched',\n",
    "    'mnli_matched', 'qnli', 'rte', 'wnli', 'ax'\n",
    "]\n",
    "for ds_name in to_load:\n",
    "    dataset = load_dataset('glue', ds_name)\n",
    "    dataset.save_to_disk(f'./data/glue_{ds_name}')\n",
    "    print(ds_name,dataset)"
   ]
  },
  {
   "cell_type": "code",
   "execution_count": null,
   "metadata": {},
   "outputs": [],
   "source": [
    "# create submit template\n",
    "from datasets import load_from_disk\n",
    "import pandas as pd\n",
    "\n",
    "task_names=['cola','mnli_matched','mnli_mismatched','mrpc','qnli','qqp','rte','sst2','stsb','wnli','ax']\n",
    "names=['CoLA.tsv','MNLI-m.tsv','MNLI-mm.tsv','MRPC.tsv','QNLI.tsv','QQP.tsv','RTE.tsv','SST-2.tsv','STS-B.tsv','WNLI.tsv','AX.tsv']\n",
    "\n",
    "for task_name, file_name in zip(task_names, names):\n",
    "    dataset=load_from_disk(f'data/glue_{task_name}')\n",
    "\n",
    "    df= pd.DataFrame(dataset['test'])[['idx','label']]\n",
    "    df = df.rename(columns={'idx': 'IDs', 'label': 'labels'})\n",
    "    print(df)\n",
    "\n",
    "    df.to_csv(f'submit_temple/{file_name}', sep='\\t', index=False)"
   ]
  },
  {
   "cell_type": "code",
   "execution_count": null,
   "metadata": {},
   "outputs": [],
   "source": [
    "# test reading dataset\n",
    "from src.dataset_wrapper import PEFTDataset\n",
    "warmup_dataset = PEFTDataset(\n",
    "    'glue', 'sst2', train_size=200, test_size=2,\n",
    "    shuffle=True).balanced_split(200).get_dataset()"
   ]
  }
 ],
 "metadata": {
  "kernelspec": {
   "display_name": "base",
   "language": "python",
   "name": "python3"
  },
  "language_info": {
   "codemirror_mode": {
    "name": "ipython",
    "version": 3
   },
   "file_extension": ".py",
   "mimetype": "text/x-python",
   "name": "python",
   "nbconvert_exporter": "python",
   "pygments_lexer": "ipython3",
   "version": "3.12.2"
  }
 },
 "nbformat": 4,
 "nbformat_minor": 2
}
